{
 "cells": [
  {
   "cell_type": "markdown",
   "metadata": {},
   "source": [
    "# Classification of Malware with PE headers"
   ]
  },
  {
   "cell_type": "markdown",
   "metadata": {},
   "source": [
    "#### Problem Statement"
   ]
  },
  {
   "cell_type": "markdown",
   "metadata": {},
   "source": [
    "Malware is one of the top most obstructions for expansion and growth of digital acceptance among the users. Both enterprises and common users are struggling to get protected from the malware in cyberspace, which emphasizes the importance of developing efficient methods of malware detection."
   ]
  },
  {
   "cell_type": "markdown",
   "metadata": {},
   "source": [
    "#### Objective"
   ]
  },
  {
   "cell_type": "markdown",
   "metadata": {},
   "source": [
    "- Build a machine learning model to classify a sample as benign - 0 or malware - 1.  \n",
    "- And share a simple way to solve this classification problem. "
   ]
  },
  {
   "cell_type": "markdown",
   "metadata": {},
   "source": [
    "### Import Libraries"
   ]
  },
  {
   "cell_type": "code",
   "execution_count": 1,
   "metadata": {},
   "outputs": [],
   "source": [
    "import numpy as np \n",
    "import pandas as pd \n",
    "from sklearn.ensemble import RandomForestClassifier\n",
    "from xgboost import XGBClassifier\n",
    "import matplotlib.pyplot as plt\n",
    "# to ignore warnings\n",
    "import warnings\n",
    "warnings.filterwarnings(\"ignore\")"
   ]
  },
  {
   "cell_type": "markdown",
   "metadata": {},
   "source": [
    "### Import Data"
   ]
  },
  {
   "cell_type": "code",
   "execution_count": 2,
   "metadata": {},
   "outputs": [],
   "source": [
    "train_data = pd.read_csv(\"https://raw.githubusercontent.com/dphi-official/Datasets/master/clamp/train_set_label.csv\")"
   ]
  },
  {
   "cell_type": "markdown",
   "metadata": {},
   "source": [
    "### Simple Exploratory Analysis"
   ]
  },
  {
   "cell_type": "markdown",
   "metadata": {},
   "source": [
    "Visualizing the distribution of variables of this dataset."
   ]
  },
  {
   "cell_type": "code",
   "execution_count": 3,
   "metadata": {},
   "outputs": [
    {
     "data": {
      "text/html": [
       "<div>\n",
       "<style scoped>\n",
       "    .dataframe tbody tr th:only-of-type {\n",
       "        vertical-align: middle;\n",
       "    }\n",
       "\n",
       "    .dataframe tbody tr th {\n",
       "        vertical-align: top;\n",
       "    }\n",
       "\n",
       "    .dataframe thead th {\n",
       "        text-align: right;\n",
       "    }\n",
       "</style>\n",
       "<table border=\"1\" class=\"dataframe\">\n",
       "  <thead>\n",
       "    <tr style=\"text-align: right;\">\n",
       "      <th></th>\n",
       "      <th>e_magic</th>\n",
       "      <th>e_cblp</th>\n",
       "      <th>e_cp</th>\n",
       "      <th>e_crlc</th>\n",
       "      <th>e_cparhdr</th>\n",
       "      <th>e_minalloc</th>\n",
       "      <th>e_maxalloc</th>\n",
       "      <th>e_ss</th>\n",
       "      <th>e_sp</th>\n",
       "      <th>e_csum</th>\n",
       "      <th>...</th>\n",
       "      <th>CheckSum</th>\n",
       "      <th>Subsystem</th>\n",
       "      <th>DllCharacteristics</th>\n",
       "      <th>SizeOfStackReserve</th>\n",
       "      <th>SizeOfStackCommit</th>\n",
       "      <th>SizeOfHeapReserve</th>\n",
       "      <th>SizeOfHeapCommit</th>\n",
       "      <th>LoaderFlags</th>\n",
       "      <th>NumberOfRvaAndSizes</th>\n",
       "      <th>class</th>\n",
       "    </tr>\n",
       "  </thead>\n",
       "  <tbody>\n",
       "    <tr>\n",
       "      <th>0</th>\n",
       "      <td>23117</td>\n",
       "      <td>144</td>\n",
       "      <td>3</td>\n",
       "      <td>0</td>\n",
       "      <td>4</td>\n",
       "      <td>0</td>\n",
       "      <td>65535</td>\n",
       "      <td>0</td>\n",
       "      <td>184</td>\n",
       "      <td>0</td>\n",
       "      <td>...</td>\n",
       "      <td>115397</td>\n",
       "      <td>2</td>\n",
       "      <td>33792</td>\n",
       "      <td>1048576</td>\n",
       "      <td>4096</td>\n",
       "      <td>1048576</td>\n",
       "      <td>4096</td>\n",
       "      <td>0</td>\n",
       "      <td>16</td>\n",
       "      <td>1</td>\n",
       "    </tr>\n",
       "    <tr>\n",
       "      <th>1</th>\n",
       "      <td>23117</td>\n",
       "      <td>144</td>\n",
       "      <td>3</td>\n",
       "      <td>0</td>\n",
       "      <td>4</td>\n",
       "      <td>0</td>\n",
       "      <td>65535</td>\n",
       "      <td>0</td>\n",
       "      <td>184</td>\n",
       "      <td>0</td>\n",
       "      <td>...</td>\n",
       "      <td>0</td>\n",
       "      <td>2</td>\n",
       "      <td>0</td>\n",
       "      <td>10485760</td>\n",
       "      <td>40960</td>\n",
       "      <td>6291456</td>\n",
       "      <td>16384</td>\n",
       "      <td>0</td>\n",
       "      <td>16</td>\n",
       "      <td>1</td>\n",
       "    </tr>\n",
       "    <tr>\n",
       "      <th>2</th>\n",
       "      <td>23117</td>\n",
       "      <td>144</td>\n",
       "      <td>3</td>\n",
       "      <td>0</td>\n",
       "      <td>4</td>\n",
       "      <td>0</td>\n",
       "      <td>65535</td>\n",
       "      <td>0</td>\n",
       "      <td>184</td>\n",
       "      <td>0</td>\n",
       "      <td>...</td>\n",
       "      <td>0</td>\n",
       "      <td>2</td>\n",
       "      <td>0</td>\n",
       "      <td>1048576</td>\n",
       "      <td>4096</td>\n",
       "      <td>1048576</td>\n",
       "      <td>4096</td>\n",
       "      <td>0</td>\n",
       "      <td>16</td>\n",
       "      <td>0</td>\n",
       "    </tr>\n",
       "  </tbody>\n",
       "</table>\n",
       "<p>3 rows × 56 columns</p>\n",
       "</div>"
      ],
      "text/plain": [
       "   e_magic  e_cblp  e_cp  e_crlc  e_cparhdr  e_minalloc  e_maxalloc  e_ss  \\\n",
       "0    23117     144     3       0          4           0       65535     0   \n",
       "1    23117     144     3       0          4           0       65535     0   \n",
       "2    23117     144     3       0          4           0       65535     0   \n",
       "\n",
       "   e_sp  e_csum  ...    CheckSum  Subsystem  DllCharacteristics  \\\n",
       "0   184       0  ...      115397          2               33792   \n",
       "1   184       0  ...           0          2                   0   \n",
       "2   184       0  ...           0          2                   0   \n",
       "\n",
       "   SizeOfStackReserve  SizeOfStackCommit  SizeOfHeapReserve  SizeOfHeapCommit  \\\n",
       "0             1048576               4096            1048576              4096   \n",
       "1            10485760              40960            6291456             16384   \n",
       "2             1048576               4096            1048576              4096   \n",
       "\n",
       "   LoaderFlags  NumberOfRvaAndSizes  class  \n",
       "0            0                   16      1  \n",
       "1            0                   16      1  \n",
       "2            0                   16      0  \n",
       "\n",
       "[3 rows x 56 columns]"
      ]
     },
     "execution_count": 3,
     "metadata": {},
     "output_type": "execute_result"
    }
   ],
   "source": [
    "train_data.head(3)"
   ]
  },
  {
   "cell_type": "markdown",
   "metadata": {},
   "source": [
    "Checking the type of each variables and if there are any missing values."
   ]
  },
  {
   "cell_type": "code",
   "execution_count": 4,
   "metadata": {},
   "outputs": [
    {
     "name": "stdout",
     "output_type": "stream",
     "text": [
      "<class 'pandas.core.frame.DataFrame'>\n",
      "RangeIndex: 3888 entries, 0 to 3887\n",
      "Data columns (total 56 columns):\n",
      "e_magic                        3888 non-null int64\n",
      "e_cblp                         3888 non-null int64\n",
      "e_cp                           3888 non-null int64\n",
      "e_crlc                         3888 non-null int64\n",
      "e_cparhdr                      3888 non-null int64\n",
      "e_minalloc                     3888 non-null int64\n",
      "e_maxalloc                     3888 non-null int64\n",
      "e_ss                           3888 non-null int64\n",
      "e_sp                           3888 non-null int64\n",
      "e_csum                         3888 non-null int64\n",
      "e_ip                           3888 non-null int64\n",
      "e_cs                           3888 non-null int64\n",
      "e_lfarlc                       3888 non-null int64\n",
      "e_ovno                         3888 non-null int64\n",
      "e_res                          0 non-null float64\n",
      "e_oemid                        3888 non-null int64\n",
      "e_oeminfo                      3888 non-null int64\n",
      "e_res2                         0 non-null float64\n",
      "e_lfanew                       3888 non-null int64\n",
      "Machine                        3888 non-null int64\n",
      "NumberOfSections               3888 non-null int64\n",
      "CreationYear                   3888 non-null int64\n",
      "PointerToSymbolTable           3888 non-null int64\n",
      "NumberOfSymbols                3888 non-null int64\n",
      "SizeOfOptionalHeader           3888 non-null int64\n",
      "Characteristics                3888 non-null int64\n",
      "Magic                          3888 non-null int64\n",
      "MajorLinkerVersion             3888 non-null int64\n",
      "MinorLinkerVersion             3888 non-null int64\n",
      "SizeOfCode                     3888 non-null int64\n",
      "SizeOfInitializedData          3888 non-null int64\n",
      "SizeOfUninitializedData        3888 non-null int64\n",
      "AddressOfEntryPoint            3888 non-null int64\n",
      "BaseOfCode                     3888 non-null int64\n",
      "BaseOfData                     3888 non-null int64\n",
      "ImageBase                      3888 non-null int64\n",
      "SectionAlignment               3888 non-null int64\n",
      "FileAlignment                  3888 non-null int64\n",
      "MajorOperatingSystemVersion    3888 non-null int64\n",
      "MinorOperatingSystemVersion    3888 non-null int64\n",
      "MajorImageVersion              3888 non-null int64\n",
      "MinorImageVersion              3888 non-null int64\n",
      "MajorSubsystemVersion          3888 non-null int64\n",
      "MinorSubsystemVersion          3888 non-null int64\n",
      "SizeOfImage                    3888 non-null int64\n",
      "SizeOfHeaders                  3888 non-null int64\n",
      "CheckSum                       3888 non-null int64\n",
      "Subsystem                      3888 non-null int64\n",
      "DllCharacteristics             3888 non-null int64\n",
      "SizeOfStackReserve             3888 non-null int64\n",
      "SizeOfStackCommit              3888 non-null int64\n",
      "SizeOfHeapReserve              3888 non-null int64\n",
      "SizeOfHeapCommit               3888 non-null int64\n",
      "LoaderFlags                    3888 non-null int64\n",
      "NumberOfRvaAndSizes            3888 non-null int64\n",
      "class                          3888 non-null int64\n",
      "dtypes: float64(2), int64(54)\n",
      "memory usage: 1.7 MB\n"
     ]
    }
   ],
   "source": [
    "train_data.info()"
   ]
  },
  {
   "cell_type": "markdown",
   "metadata": {},
   "source": [
    "We can check that the columns 'e_res' and 'e_res2' don't have any values so let's remove them from our dataset."
   ]
  },
  {
   "cell_type": "code",
   "execution_count": 5,
   "metadata": {},
   "outputs": [],
   "source": [
    "train_data = train_data.drop(['e_res', 'e_res2'], axis = 1)"
   ]
  },
  {
   "cell_type": "markdown",
   "metadata": {},
   "source": [
    "Separating dependant and independent variables."
   ]
  },
  {
   "cell_type": "code",
   "execution_count": 6,
   "metadata": {},
   "outputs": [],
   "source": [
    "X = train_data.drop('class', axis = 1) \n",
    "y = train_data['class'] "
   ]
  },
  {
   "cell_type": "markdown",
   "metadata": {},
   "source": [
    "Separating our dataset using Scikit-Learn package. We will be separating 70% to train and 30% to test."
   ]
  },
  {
   "cell_type": "code",
   "execution_count": 7,
   "metadata": {},
   "outputs": [],
   "source": [
    "from sklearn.model_selection import train_test_split\n",
    "X_train, X_test, y_train, y_test = train_test_split(X,y,test_size=0.3, random_state = 42)"
   ]
  },
  {
   "cell_type": "markdown",
   "metadata": {},
   "source": [
    "In this dataset i have used the Robust Scaler instead of standarization or normalization, it had a better performance in this data. If you want to know more about this type of scaler visit this website https://www.geeksforgeeks.org/standardscaler-minmaxscaler-and-robustscaler-techniques-ml/"
   ]
  },
  {
   "cell_type": "code",
   "execution_count": 8,
   "metadata": {},
   "outputs": [],
   "source": [
    "from sklearn.preprocessing import RobustScaler # When there are manyt outliers\n",
    "scaler = RobustScaler()\n",
    "X_train = pd.DataFrame(scaler.fit_transform(X_train), columns = (X_train.columns))\n",
    "X_test = pd.DataFrame(scaler.fit_transform(X_test), columns = (X_test.columns))\n",
    "#X = pd.DataFrame(scaler.fit_transform(X), columns = (X.columns))\n"
   ]
  },
  {
   "cell_type": "markdown",
   "metadata": {},
   "source": [
    "### Feature Selection"
   ]
  },
  {
   "cell_type": "markdown",
   "metadata": {},
   "source": [
    "#### Variance  \n",
    "In this next phase we will remove some variables which don't have much variance in their values."
   ]
  },
  {
   "cell_type": "code",
   "execution_count": 9,
   "metadata": {},
   "outputs": [
    {
     "name": "stdout",
     "output_type": "stream",
     "text": [
      "('e_magic', 0.0)\n",
      "('e_cblp', 349912.86856572493)\n",
      "('e_cp', 5.249250357753731)\n",
      "('e_crlc', 0.0)\n",
      "('e_cparhdr', 0.1275505829903978)\n",
      "('e_minalloc', 4326.681374525815)\n",
      "('e_maxalloc', 26988777.046122447)\n",
      "('e_ss', 1103849.3484224968)\n",
      "('e_sp', 1098506.8353144743)\n",
      "('e_csum', 0.0015421514335551827)\n",
      "('e_ip', 364648.0997211402)\n",
      "('e_cs', 1373342.3489288948)\n",
      "('e_lfarlc', 27.207776592321636)\n",
      "('e_ovno', 42.78448407254992)\n",
      "('e_oemid', 54.96450081447182)\n",
      "('e_oeminfo', 0.04214905205845993)\n",
      "('e_lfanew', 2328.802383401921)\n",
      "('Machine', 1788749.4904740122)\n",
      "('NumberOfSections', 3.5986447034454434)\n",
      "('CreationYear', 38.76873119940643)\n",
      "('PointerToSymbolTable', 2476227538.4572816)\n",
      "('NumberOfSymbols', 28507.913489683888)\n",
      "('SizeOfOptionalHeader', 0.3944520652339582)\n",
      "('Characteristics', 67579161.9620961)\n",
      "('Magic', 109.84411436899862)\n",
      "('MajorLinkerVersion', 47.97869989330895)\n",
      "('MinorLinkerVersion', 116.81583826303155)\n",
      "('SizeOfCode', 411797647345.52075)\n",
      "('SizeOfInitializedData', 5378138530169.864)\n",
      "('SizeOfUninitializedData', 670031503498.3467)\n",
      "('AddressOfEntryPoint', 774996625397.3011)\n",
      "('BaseOfCode', 601714336743.167)\n",
      "('BaseOfData', 1017019442759.3326)\n",
      "('ImageBase', 1.2550804566912309e+17)\n",
      "('SectionAlignment', 1018461.4101508918)\n",
      "('FileAlignment', 1983083.5955223632)\n",
      "('MajorOperatingSystemVersion', 1.0324198441125167)\n",
      "('MinorOperatingSystemVersion', 0.7514532422225608)\n",
      "('MajorImageVersion', 1692645.9994474929)\n",
      "('MinorImageVersion', 2048387.3793914793)\n",
      "('MajorSubsystemVersion', 0.5699564662399024)\n",
      "('MinorSubsystemVersion', 0.6081887500211689)\n",
      "('SizeOfImage', 6874127204599.651)\n",
      "('SizeOfHeaders', 2732908034.234073)\n",
      "('CheckSum', 4768579078990933.0)\n",
      "('Subsystem', 0.22532107868041795)\n",
      "('DllCharacteristics', 220221492.84555355)\n",
      "('SizeOfStackReserve', 21915617140991.613)\n",
      "('SizeOfStackCommit', 6815733196.100171)\n",
      "('SizeOfHeapReserve', 19332539082119.266)\n",
      "('SizeOfHeapCommit', 42370689.341800876)\n",
      "('LoaderFlags', 1801746188081.0618)\n",
      "('NumberOfRvaAndSizes', 0.42003860141577337)\n"
     ]
    }
   ],
   "source": [
    "from sklearn.feature_selection import VarianceThreshold\n",
    "X_var = VarianceThreshold(threshold=0.2)\n",
    "X_var.fit(X)\n",
    "\n",
    "for feature in zip(X.columns, X_var.variances_):\n",
    "    print(feature)\n",
    "    \n",
    "sum(X_var.get_support())\n",
    "\n",
    "list_var = list(X.columns[X_var.get_support()])\n",
    "X_train = X_train[list_var]"
   ]
  },
  {
   "cell_type": "markdown",
   "metadata": {},
   "source": [
    "#### Importance \n",
    "Now we will check the importance of features and remove the least important ones."
   ]
  },
  {
   "cell_type": "code",
   "execution_count": 10,
   "metadata": {},
   "outputs": [
    {
     "data": {
      "text/plain": [
       "RandomForestClassifier()"
      ]
     },
     "execution_count": 10,
     "metadata": {},
     "output_type": "execute_result"
    }
   ],
   "source": [
    "rf = RandomForestClassifier()\n",
    "rf.fit(X_train, y_train)"
   ]
  },
  {
   "cell_type": "code",
   "execution_count": 11,
   "metadata": {},
   "outputs": [
    {
     "data": {
      "image/png": "[encoded data removed]",
      "text/plain": [
       "<Figure size 1080x1080 with 1 Axes>"
      ]
     },
     "metadata": {},
     "output_type": "display_data"
    }
   ],
   "source": [
    "plt.figure(figsize = (15,15))\n",
    "plt.barh(X_train.columns, rf.feature_importances_)\n",
    "\n",
    "plt.show()"
   ]
  },
  {
   "cell_type": "code",
   "execution_count": 12,
   "metadata": {},
   "outputs": [],
   "source": [
    "imp_list = ['NumberOfRvaAndSizes', 'LoaderFlags', 'Magic', 'SizeOfOptionalHeader', 'NumberOfSymbols', 'PointerToSymbolTable',\n",
    "           'Machine', 'e_oemid', 'e_lfarlc', 'e_cs', 'e_ip', 'e_sp', 'e_ss', 'e_maxalloc']"
   ]
  },
  {
   "cell_type": "code",
   "execution_count": 13,
   "metadata": {},
   "outputs": [],
   "source": [
    "X_train = X_train.drop(imp_list, axis=1)"
   ]
  },
  {
   "cell_type": "markdown",
   "metadata": {},
   "source": [
    "### Building a ML Model"
   ]
  },
  {
   "cell_type": "markdown",
   "metadata": {},
   "source": [
    "Through my search for the best ML algorithm for this case i have found that RandomForest, ExtraTrees and XGBoost where the ones that had better scores, also used RandomizedSearchCV of sklearn.model_selection package to optimize my hyperparameters.  \n",
    "Learn more about this hyperparameter tuning tool on the official page of Scikit Learn  \n",
    "https://scikit-learn.org/stable/modules/generated/sklearn.model_selection.RandomizedSearchCV.html"
   ]
  },
  {
   "cell_type": "code",
   "execution_count": 14,
   "metadata": {},
   "outputs": [],
   "source": [
    "xgb = XGBClassifier(n_estimators=1000, learning_rate=0.02, max_depth=6, subsample=0.9, colsample_bytree=1)"
   ]
  },
  {
   "cell_type": "code",
   "execution_count": 15,
   "metadata": {},
   "outputs": [
    {
     "name": "stdout",
     "output_type": "stream",
     "text": [
      "[20:06:29] WARNING: C:/Users/Administrator/workspace/xgboost-win64_release_1.3.0/src/learner.cc:1061: Starting in XGBoost 1.3.0, the default evaluation metric used with the objective 'binary:logistic' was changed from 'error' to 'logloss'. Explicitly set eval_metric if you'd like to restore the old behavior.\n"
     ]
    },
    {
     "data": {
      "text/plain": [
       "XGBClassifier(base_score=0.5, booster='gbtree', colsample_bylevel=1,\n",
       "              colsample_bynode=1, colsample_bytree=1, gamma=0, gpu_id=-1,\n",
       "              importance_type='gain', interaction_constraints='',\n",
       "              learning_rate=0.02, max_delta_step=0, max_depth=6,\n",
       "              min_child_weight=1, missing=nan, monotone_constraints='()',\n",
       "              n_estimators=1000, n_jobs=4, num_parallel_tree=1, random_state=0,\n",
       "              reg_alpha=0, reg_lambda=1, scale_pos_weight=1, subsample=0.9,\n",
       "              tree_method='exact', validate_parameters=1, verbosity=None)"
      ]
     },
     "execution_count": 15,
     "metadata": {},
     "output_type": "execute_result"
    }
   ],
   "source": [
    "xgb.fit(X_train, y_train)"
   ]
  },
  {
   "cell_type": "code",
   "execution_count": 18,
   "metadata": {},
   "outputs": [],
   "source": [
    "X_test = X_test[list_var]\n",
    "X_test = X_test.drop(imp_list, axis=1)"
   ]
  },
  {
   "cell_type": "code",
   "execution_count": 19,
   "metadata": {},
   "outputs": [],
   "source": [
    "pred = xgb.predict(X_test)"
   ]
  },
  {
   "cell_type": "code",
   "execution_count": 20,
   "metadata": {},
   "outputs": [],
   "source": [
    "from sklearn.metrics import f1_score"
   ]
  },
  {
   "cell_type": "code",
   "execution_count": 21,
   "metadata": {},
   "outputs": [
    {
     "name": "stdout",
     "output_type": "stream",
     "text": [
      "F1 Score is:  0.9731925264012998\n"
     ]
    }
   ],
   "source": [
    "print('F1 Score is: ', f1_score(y_test, pred))"
   ]
  },
  {
   "cell_type": "markdown",
   "metadata": {},
   "source": [
    "### Predicting with test data"
   ]
  },
  {
   "cell_type": "code",
   "execution_count": 22,
   "metadata": {},
   "outputs": [],
   "source": [
    "test_data = pd.read_csv('https://raw.githubusercontent.com/dphi-official/Datasets/master/clamp/test_set_label.csv')"
   ]
  },
  {
   "cell_type": "code",
   "execution_count": 23,
   "metadata": {},
   "outputs": [],
   "source": [
    "test_data.drop(['e_res', 'e_res2'], axis = 1)\n",
    "test_data = test_data[list_var]\n",
    "test_data = test_data.drop(imp_list, axis=1)"
   ]
  },
  {
   "cell_type": "code",
   "execution_count": 24,
   "metadata": {},
   "outputs": [],
   "source": [
    "target = xgb.predict(test_data)"
   ]
  },
  {
   "cell_type": "code",
   "execution_count": 25,
   "metadata": {},
   "outputs": [],
   "source": [
    "res = pd.DataFrame(target) \n",
    "res.columns = [\"prediction\"]\n",
    "res.to_csv(\"XGB_submission.csv\", index=False, float_format = str)"
   ]
  }
 ],
 "metadata": {
  "kernelspec": {
   "display_name": "Python 3",
   "language": "python",
   "name": "python3"
  },
  "language_info": {
   "codemirror_mode": {
    "name": "ipython",
    "version": 3
   },
   "file_extension": ".py",
   "mimetype": "text/x-python",
   "name": "python",
   "nbconvert_exporter": "python",
   "pygments_lexer": "ipython3",
   "version": "3.6.5"
  }
 },
 "nbformat": 4,
 "nbformat_minor": 4
}
